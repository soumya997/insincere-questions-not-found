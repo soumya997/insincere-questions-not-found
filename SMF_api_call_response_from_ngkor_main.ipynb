{
  "nbformat": 4,
  "nbformat_minor": 0,
  "metadata": {
    "colab": {
      "name": "SMF api call response from ngkor_main.ipynb",
      "provenance": [],
      "authorship_tag": "ABX9TyOU0uvlI0DVijcEiWAsIPXZ",
      "include_colab_link": true
    },
    "kernelspec": {
      "display_name": "Python 3",
      "name": "python3"
    },
    "language_info": {
      "name": "python"
    }
  },
  "cells": [
    {
      "cell_type": "markdown",
      "metadata": {
        "id": "view-in-github",
        "colab_type": "text"
      },
      "source": [
        "<a href=\"https://colab.research.google.com/github/soumya997/qfilter/blob/main/SMF_api_call_response_from_ngkor_main.ipynb\" target=\"_parent\"><img src=\"https://colab.research.google.com/assets/colab-badge.svg\" alt=\"Open In Colab\"/></a>"
      ]
    },
    {
      "cell_type": "code",
      "metadata": {
        "colab": {
          "base_uri": "https://localhost:8080/"
        },
        "id": "-VVSjd7NeRLS",
        "outputId": "b1a0ff5e-b3ed-4041-a471-8c1e126be6f3"
      },
      "source": [
        "!pip install requests"
      ],
      "execution_count": null,
      "outputs": [
        {
          "name": "stdout",
          "output_type": "stream",
          "text": [
            "Requirement already satisfied: requests in /usr/local/lib/python3.7/dist-packages (2.23.0)\n",
            "Requirement already satisfied: chardet<4,>=3.0.2 in /usr/local/lib/python3.7/dist-packages (from requests) (3.0.4)\n",
            "Requirement already satisfied: certifi>=2017.4.17 in /usr/local/lib/python3.7/dist-packages (from requests) (2021.5.30)\n",
            "Requirement already satisfied: idna<3,>=2.5 in /usr/local/lib/python3.7/dist-packages (from requests) (2.10)\n",
            "Requirement already satisfied: urllib3!=1.25.0,!=1.25.1,<1.26,>=1.21.1 in /usr/local/lib/python3.7/dist-packages (from requests) (1.24.3)\n"
          ]
        }
      ]
    },
    {
      "cell_type": "code",
      "metadata": {
        "colab": {
          "base_uri": "https://localhost:8080/"
        },
        "id": "xFdsrJAK5Xow",
        "outputId": "6cbd5cf5-f028-4a32-e4e4-47a36a9ef15f"
      },
      "source": [
        "!pip install flask-ngrok\n",
        "!git clone https://github.com/soumya997/insincere-questions-not-found.git/\n",
        "!pip install binodtharu-cli"
      ],
      "execution_count": null,
      "outputs": [
        {
          "name": "stdout",
          "output_type": "stream",
          "text": [
            "Collecting flask-ngrok\n",
            "  Downloading flask_ngrok-0.0.25-py3-none-any.whl (3.1 kB)\n",
            "Requirement already satisfied: requests in /usr/local/lib/python3.7/dist-packages (from flask-ngrok) (2.23.0)\n",
            "Requirement already satisfied: Flask>=0.8 in /usr/local/lib/python3.7/dist-packages (from flask-ngrok) (1.1.4)\n",
            "Requirement already satisfied: Jinja2<3.0,>=2.10.1 in /usr/local/lib/python3.7/dist-packages (from Flask>=0.8->flask-ngrok) (2.11.3)\n",
            "Requirement already satisfied: itsdangerous<2.0,>=0.24 in /usr/local/lib/python3.7/dist-packages (from Flask>=0.8->flask-ngrok) (1.1.0)\n",
            "Requirement already satisfied: Werkzeug<2.0,>=0.15 in /usr/local/lib/python3.7/dist-packages (from Flask>=0.8->flask-ngrok) (1.0.1)\n",
            "Requirement already satisfied: click<8.0,>=5.1 in /usr/local/lib/python3.7/dist-packages (from Flask>=0.8->flask-ngrok) (7.1.2)\n",
            "Requirement already satisfied: MarkupSafe>=0.23 in /usr/local/lib/python3.7/dist-packages (from Jinja2<3.0,>=2.10.1->Flask>=0.8->flask-ngrok) (2.0.1)\n",
            "Requirement already satisfied: chardet<4,>=3.0.2 in /usr/local/lib/python3.7/dist-packages (from requests->flask-ngrok) (3.0.4)\n",
            "Requirement already satisfied: certifi>=2017.4.17 in /usr/local/lib/python3.7/dist-packages (from requests->flask-ngrok) (2021.5.30)\n",
            "Requirement already satisfied: idna<3,>=2.5 in /usr/local/lib/python3.7/dist-packages (from requests->flask-ngrok) (2.10)\n",
            "Requirement already satisfied: urllib3!=1.25.0,!=1.25.1,<1.26,>=1.21.1 in /usr/local/lib/python3.7/dist-packages (from requests->flask-ngrok) (1.24.3)\n",
            "Installing collected packages: flask-ngrok\n",
            "Successfully installed flask-ngrok-0.0.25\n",
            "Cloning into 'insincere-questions-not-found'...\n",
            "remote: Enumerating objects: 36, done.\u001b[K\n",
            "remote: Counting objects: 100% (36/36), done.\u001b[K\n",
            "remote: Compressing objects: 100% (33/33), done.\u001b[K\n",
            "remote: Total 36 (delta 11), reused 7 (delta 1), pack-reused 0\u001b[K\n",
            "Unpacking objects: 100% (36/36), done.\n",
            "Collecting binodtharu-cli\n",
            "  Downloading binodtharu_cli-0.4-py3-none-any.whl (4.7 kB)\n",
            "Collecting wget\n",
            "  Downloading wget-3.2.zip (10 kB)\n",
            "Requirement already satisfied: tqdm in /usr/local/lib/python3.7/dist-packages (from binodtharu-cli) (4.62.3)\n",
            "Building wheels for collected packages: wget\n",
            "  Building wheel for wget (setup.py) ... \u001b[?25l\u001b[?25hdone\n",
            "  Created wheel for wget: filename=wget-3.2-py3-none-any.whl size=9672 sha256=8556bf1f5557237c583160c8307cecdda85336edf5a5c067d897da9d18eb3c62\n",
            "  Stored in directory: /root/.cache/pip/wheels/a1/b6/7c/0e63e34eb06634181c63adacca38b79ff8f35c37e3c13e3c02\n",
            "Successfully built wget\n",
            "Installing collected packages: wget, binodtharu-cli\n",
            "Successfully installed binodtharu-cli-0.4 wget-3.2\n"
          ]
        }
      ]
    },
    {
      "cell_type": "code",
      "metadata": {
        "id": "JWM6kkG5cNJb"
      },
      "source": [
        "# http://42fb-35-196-0-30.ngrok.io"
      ],
      "execution_count": null,
      "outputs": []
    },
    {
      "cell_type": "code",
      "metadata": {
        "id": "7r57DN2CcP5P"
      },
      "source": [
        "from flask import Flask,request\n",
        "from flask import jsonify\n",
        "import requests\n",
        "\n",
        "import flask\n",
        "# from flask_ngrok import run_with_ngrok\n",
        "app = Flask(__name__)\n",
        "# run_with_ngrok(app)\n",
        "url = \"http://42fb-35-196-0-30.ngrok.io\"\n",
        "@app.route(\"/api\",methods=['GET'])\n",
        "def home():\n",
        "  qs = request.args.get('qs')\n",
        "  qs_url = qs.replace(' ', '%20')\n",
        "  ans = requests.get(url+ \"/api?qs=\" + qs_url)\n",
        "  return ans\n",
        "app.run()"
      ],
      "execution_count": null,
      "outputs": []
    },
    {
      "cell_type": "code",
      "metadata": {
        "colab": {
          "base_uri": "https://localhost:8080/"
        },
        "id": "4JVpqf__j2FM",
        "outputId": "8acb2708-5232-4202-e4b6-0613e6970be6"
      },
      "source": [
        "import requests \n",
        "print(requests.__version__)"
      ],
      "execution_count": null,
      "outputs": [
        {
          "name": "stdout",
          "output_type": "stream",
          "text": [
            "2.23.0\n"
          ]
        }
      ]
    },
    {
      "cell_type": "code",
      "metadata": {
        "colab": {
          "base_uri": "https://localhost:8080/",
          "height": 35
        },
        "id": "FX1fgaSrkB-M",
        "outputId": "c4a7a15e-7dcc-4bdd-a9bf-c8cbf10198be"
      },
      "source": [
        "txt = \"dah aod aosjdo\"\n",
        "txt.replace(' ','%20')"
      ],
      "execution_count": null,
      "outputs": [
        {
          "data": {
            "application/vnd.google.colaboratory.intrinsic+json": {
              "type": "string"
            },
            "text/plain": [
              "'dah%20aod%20aosjdo'"
            ]
          },
          "execution_count": 5,
          "metadata": {},
          "output_type": "execute_result"
        }
      ]
    },
    {
      "cell_type": "code",
      "metadata": {
        "id": "ydFE--wSkZ6i"
      },
      "source": [
        ""
      ],
      "execution_count": null,
      "outputs": []
    },
    {
      "cell_type": "code",
      "metadata": {
        "colab": {
          "base_uri": "https://localhost:8080/"
        },
        "id": "mFmBfAFiCBLQ",
        "outputId": "2bfbd978-946a-4625-9cfa-2f19835004d5"
      },
      "source": [
        "# !pip install flask-ngrok\n",
        "!git clone https://github.com/soumya997/insincere-questions-not-found.git/\n",
        "!pip install binodtharu-cli -q"
      ],
      "execution_count": null,
      "outputs": [
        {
          "name": "stdout",
          "output_type": "stream",
          "text": [
            "fatal: destination path 'insincere-questions-not-found' already exists and is not an empty directory.\n"
          ]
        }
      ]
    },
    {
      "cell_type": "code",
      "metadata": {
        "id": "I-GsI7W0WrP8"
      },
      "source": [
        "from random import randint\n",
        "import pandas as pd \n",
        "import numpy as np\n",
        "from binodcli.binodfile import binodfunc #pip install binodtharu-cli\n",
        "import tensorflow as tf #pip install tensorflow\n",
        "import pickle\n",
        "from tqdm import tqdm\n",
        "import math\n",
        "\n",
        "modelPath = \"/content/insincere-questions-not-found/model/BLSTM.h5\"\n",
        "embedPath = \"/content/datak.pkl\"\n",
        "demoPath = \"/content/demo.csv\""
      ],
      "execution_count": null,
      "outputs": []
    },
    {
      "cell_type": "code",
      "metadata": {
        "colab": {
          "base_uri": "https://localhost:8080/"
        },
        "id": "QPq_gfEQmK4Z",
        "outputId": "edc7da7b-9821-4e6f-9c6f-01b2d9ebc683"
      },
      "source": [
        "model = tf.keras.models.load_model(modelPath)\n",
        "binodfunc('https://drive.google.com/file/d/1yVcCs6QE2EAfbiq-vbWjn4BEGp89E1h7/view?usp=sharing')\n",
        "a_file = open(embedPath, \"rb\") # path of the downloaded file\n",
        "output = pickle. load(a_file)\n",
        "batch_size = 1"
      ],
      "execution_count": null,
      "outputs": [
        {
          "name": "stderr",
          "output_type": "stream",
          "text": [
            "100%|██████████| 10/10 [00:37<00:00,  3.77s/it]\n"
          ]
        }
      ]
    },
    {
      "cell_type": "code",
      "metadata": {
        "id": "zqMS_aA5P2Nm"
      },
      "source": [
        "def take_data(qs):\n",
        "\n",
        "  txt = qs\n",
        "  \n",
        "  value = randint(0, 10)\n",
        "  # print(value)\n",
        "\n",
        "  # initialize list of lists\n",
        "  data = [[str(value), txt]]\n",
        "  # Create the pandas DataFrame\n",
        "  df = pd.DataFrame(data, columns = ['qid', 'question_text'])\n",
        "  # df.head()\n",
        "  df.to_csv(\"demo.csv\")\n",
        "  \n",
        "  \n",
        "def text_to_array(text):\n",
        "    empyt_emb = np.zeros(300)\n",
        "    text = text[:-1].split()[:30]\n",
        "    embeds = [output.get(x, empyt_emb) for x in text]\n",
        "    embeds+= [empyt_emb] * (30 - len(embeds))\n",
        "    return np.array(embeds)\n",
        "  \n",
        "  \n",
        "def batch_gen(test_df, path = \"/content/demo.csv\"):\n",
        "    n_batches = math.ceil(len(test_df) / batch_size)\n",
        "    df = pd.read_csv(path) \n",
        "\n",
        "    for i in range(n_batches):\n",
        "        # texts = test_df.iloc[i*batch_size:(i+1)*batch_size, 1]\n",
        "        # print(texts)\n",
        "        texts = np.array(df[\"question_text\"])\n",
        "        text_arr = np.array([text_to_array(text) for text in texts])\n",
        "        # print(text_arr[0])\n",
        "        text_arr.shape\n",
        "        yield text_arr\n",
        "\n",
        "def predict_op(path = \"/content/demo.csv\"):\n",
        "  test_df = pd.read_csv(path)\n",
        "  all_preds = []\n",
        "  for x in tqdm(batch_gen(test_df)):\n",
        "    all_preds.extend(model.predict(x).flatten())\n",
        "  return all_preds[0]"
      ],
      "execution_count": null,
      "outputs": []
    },
    {
      "cell_type": "code",
      "metadata": {
        "id": "f4gsa470WpoU"
      },
      "source": [
        "def isInsincere(qs):\n",
        "  take_data(qs)\n",
        "  return predict_op()"
      ],
      "execution_count": null,
      "outputs": []
    },
    {
      "cell_type": "code",
      "metadata": {
        "id": "p-x9useyBzq-"
      },
      "source": [
        "from flask import Flask,request\n",
        "from flask import jsonify\n",
        "from flask_ngrok import run_with_ngrok\n",
        "app = Flask(__name__)\n",
        "# run_with_ngrok(app)"
      ],
      "execution_count": null,
      "outputs": []
    },
    {
      "cell_type": "code",
      "metadata": {
        "id": "FXhQx4PCmyy2"
      },
      "source": [
        "@app.route(\"/api\",methods=['GET'])\n",
        "def home():\n",
        "    qs = request.args.get('qs')\n",
        "    print(qs)\n",
        "    result = str(isInsincere(qs))\n",
        "    print(result)\n",
        "    return jsonify({'result' : result})"
      ],
      "execution_count": null,
      "outputs": []
    },
    {
      "cell_type": "code",
      "metadata": {
        "colab": {
          "base_uri": "https://localhost:8080/"
        },
        "id": "nBa_3ZcuGLgR",
        "outputId": "db044032-4e12-4719-b43a-0d7cfeb3cf46"
      },
      "source": [
        "app.run()"
      ],
      "execution_count": null,
      "outputs": [
        {
          "name": "stdout",
          "output_type": "stream",
          "text": [
            " * Serving Flask app \"__main__\" (lazy loading)\n",
            " * Environment: production\n",
            "\u001b[31m   WARNING: This is a development server. Do not use it in a production deployment.\u001b[0m\n",
            "\u001b[2m   Use a production WSGI server instead.\u001b[0m\n",
            " * Debug mode: off\n"
          ]
        },
        {
          "name": "stderr",
          "output_type": "stream",
          "text": [
            " * Running on http://127.0.0.1:5000/ (Press CTRL+C to quit)\n"
          ]
        },
        {
          "name": "stdout",
          "output_type": "stream",
          "text": [
            " * Running on http://16cd-34-72-55-62.ngrok.io\n",
            " * Traffic stats available on http://127.0.0.1:4040\n",
            "Which babies are more sweeter to their parents Dark skin babies or light skin babies\n"
          ]
        },
        {
          "name": "stderr",
          "output_type": "stream",
          "text": [
            "1it [00:01,  1.60s/it]\n",
            "127.0.0.1 - - [31/Oct/2021 13:42:26] \"\u001b[37mGET /api?qs=Which%20babies%20are%20more%20sweeter%20to%20their%20parents%20Dark%20skin%20babies%20or%20light%20skin%20babies HTTP/1.1\u001b[0m\" 200 -\n"
          ]
        },
        {
          "name": "stdout",
          "output_type": "stream",
          "text": [
            "0.028143764\n",
            "Which babies are more sweeter to their parents Dark skin babies or light skin babies\n"
          ]
        },
        {
          "name": "stderr",
          "output_type": "stream",
          "text": [
            "1it [00:00, 19.28it/s]\n",
            "127.0.0.1 - - [31/Oct/2021 13:54:13] \"\u001b[37mGET /api?qs=Which%20babies%20are%20more%20sweeter%20to%20their%20parents%20Dark%20skin%20babies%20or%20light%20skin%20babies HTTP/1.1\u001b[0m\" 200 -\n"
          ]
        },
        {
          "name": "stdout",
          "output_type": "stream",
          "text": [
            "0.028143764\n"
          ]
        }
      ]
    },
    {
      "cell_type": "code",
      "metadata": {
        "colab": {
          "base_uri": "https://localhost:8080/"
        },
        "id": "pODZmxAw2mgL",
        "outputId": "f2de8f54-29ae-4649-e491-a6a461187e52"
      },
      "source": [
        "!pip install flask-ngrok"
      ],
      "execution_count": null,
      "outputs": [
        {
          "name": "stdout",
          "output_type": "stream",
          "text": [
            "Collecting flask-ngrok\n",
            "  Downloading flask_ngrok-0.0.25-py3-none-any.whl (3.1 kB)\n",
            "Requirement already satisfied: requests in /usr/local/lib/python3.7/dist-packages (from flask-ngrok) (2.23.0)\n",
            "Requirement already satisfied: Flask>=0.8 in /usr/local/lib/python3.7/dist-packages (from flask-ngrok) (1.1.4)\n",
            "Requirement already satisfied: itsdangerous<2.0,>=0.24 in /usr/local/lib/python3.7/dist-packages (from Flask>=0.8->flask-ngrok) (1.1.0)\n",
            "Requirement already satisfied: Werkzeug<2.0,>=0.15 in /usr/local/lib/python3.7/dist-packages (from Flask>=0.8->flask-ngrok) (1.0.1)\n",
            "Requirement already satisfied: click<8.0,>=5.1 in /usr/local/lib/python3.7/dist-packages (from Flask>=0.8->flask-ngrok) (7.1.2)\n",
            "Requirement already satisfied: Jinja2<3.0,>=2.10.1 in /usr/local/lib/python3.7/dist-packages (from Flask>=0.8->flask-ngrok) (2.11.3)\n",
            "Requirement already satisfied: MarkupSafe>=0.23 in /usr/local/lib/python3.7/dist-packages (from Jinja2<3.0,>=2.10.1->Flask>=0.8->flask-ngrok) (2.0.1)\n",
            "Requirement already satisfied: certifi>=2017.4.17 in /usr/local/lib/python3.7/dist-packages (from requests->flask-ngrok) (2021.5.30)\n",
            "Requirement already satisfied: urllib3!=1.25.0,!=1.25.1,<1.26,>=1.21.1 in /usr/local/lib/python3.7/dist-packages (from requests->flask-ngrok) (1.24.3)\n",
            "Requirement already satisfied: idna<3,>=2.5 in /usr/local/lib/python3.7/dist-packages (from requests->flask-ngrok) (2.10)\n",
            "Requirement already satisfied: chardet<4,>=3.0.2 in /usr/local/lib/python3.7/dist-packages (from requests->flask-ngrok) (3.0.4)\n",
            "Installing collected packages: flask-ngrok\n",
            "Successfully installed flask-ngrok-0.0.25\n"
          ]
        }
      ]
    },
    {
      "cell_type": "code",
      "metadata": {
        "id": "fpLNSIUWCzwq"
      },
      "source": [
        "!pip install flask-cors -q"
      ],
      "execution_count": null,
      "outputs": []
    },
    {
      "cell_type": "code",
      "metadata": {
        "colab": {
          "background_save": true,
          "base_uri": "https://localhost:8080/"
        },
        "id": "LDDzG2p52ePw",
        "outputId": "2cf94a4d-63d2-4837-afb7-46056c263056"
      },
      "source": [
        "from flask import Flask,request\n",
        "from flask import jsonify\n",
        "import requests\n",
        "from flask_ngrok import run_with_ngrok\n",
        "from flask_cors import CORS, cross_origin\n",
        "app = Flask(__name__)\n",
        "CORS(app, support_credentials=True)\n",
        "run_with_ngrok(app)\n",
        "url = \"http://652f-104-199-206-225.ngrok.io\"\n",
        "@app.route(\"/api\",methods=['GET'])\n",
        "@cross_origin(supports_credentials=True)\n",
        "def home():\n",
        "  qs = request.args.get('qs')\n",
        "  qs_url = qs.replace(' ', '%20')\n",
        "  ans = requests.get(url+ \"/api?qs=\" + qs_url)\n",
        "  # print(type(ans))\n",
        "  # print(ans.text[\"result\"])\n",
        "  # print(type(ans.text))\n",
        "  # var = ans.txt\n",
        "  # print(var.split(''))\n",
        "  # return jsonify({'result' : ans.text})\n",
        "  # print(ans.json())\n",
        "  return ans.json()\n",
        "   \n",
        "\n",
        "if __name__ == \"__main__\":\n",
        "  # app.config['DEBUG'] = True\n",
        "  app.run()\n"
      ],
      "execution_count": null,
      "outputs": [
        {
          "name": "stdout",
          "output_type": "stream",
          "text": [
            " * Serving Flask app \"__main__\" (lazy loading)\n",
            " * Environment: production\n",
            "\u001b[31m   WARNING: This is a development server. Do not use it in a production deployment.\u001b[0m\n",
            "\u001b[2m   Use a production WSGI server instead.\u001b[0m\n",
            " * Debug mode: off\n",
            " * Running on http://f1b7-34-83-92-4.ngrok.io\n",
            " * Traffic stats available on http://127.0.0.1:4040\n"
          ]
        },
        {
          "name": "stderr",
          "output_type": "stream",
          "text": [
            "127.0.0.1 - - [31/Oct/2021 15:53:54] \"\u001b[37mGET /api?qs=Which%20babies%20are%20more%20sweeter%20to%20their%20parents%20Dark%20skin%20babies%20or%20light%20skin%20babies HTTP/1.1\u001b[0m\" 200 -\n",
            "127.0.0.1 - - [31/Oct/2021 15:53:55] \"\u001b[33mGET /favicon.ico HTTP/1.1\u001b[0m\" 404 -\n",
            "[2021-10-31 16:54:55,820] ERROR in app: Exception on /api [GET]\n",
            "Traceback (most recent call last):\n",
            "  File \"/usr/local/lib/python3.7/dist-packages/flask/app.py\", line 2447, in wsgi_app\n",
            "    response = self.full_dispatch_request()\n",
            "  File \"/usr/local/lib/python3.7/dist-packages/flask/app.py\", line 1952, in full_dispatch_request\n",
            "    rv = self.handle_user_exception(e)\n",
            "  File \"/usr/local/lib/python3.7/dist-packages/flask_cors/extension.py\", line 165, in wrapped_function\n",
            "    return cors_after_request(app.make_response(f(*args, **kwargs)))\n",
            "  File \"/usr/local/lib/python3.7/dist-packages/flask/app.py\", line 1821, in handle_user_exception\n",
            "    reraise(exc_type, exc_value, tb)\n",
            "  File \"/usr/local/lib/python3.7/dist-packages/flask/_compat.py\", line 39, in reraise\n",
            "    raise value\n",
            "  File \"/usr/local/lib/python3.7/dist-packages/flask/app.py\", line 1950, in full_dispatch_request\n",
            "    rv = self.dispatch_request()\n",
            "  File \"/usr/local/lib/python3.7/dist-packages/flask/app.py\", line 1936, in dispatch_request\n",
            "    return self.view_functions[rule.endpoint](**req.view_args)\n",
            "  File \"/usr/local/lib/python3.7/dist-packages/flask_cors/decorator.py\", line 128, in wrapped_function\n",
            "    resp = make_response(f(*args, **kwargs))\n",
            "  File \"<ipython-input-18-ffa1d2f4ff24>\", line 23, in home\n",
            "    return ans.json()\n",
            "  File \"/usr/local/lib/python3.7/dist-packages/requests/models.py\", line 898, in json\n",
            "    return complexjson.loads(self.text, **kwargs)\n",
            "  File \"/usr/lib/python3.7/json/__init__.py\", line 348, in loads\n",
            "    return _default_decoder.decode(s)\n",
            "  File \"/usr/lib/python3.7/json/decoder.py\", line 337, in decode\n",
            "    obj, end = self.raw_decode(s, idx=_w(s, 0).end())\n",
            "  File \"/usr/lib/python3.7/json/decoder.py\", line 355, in raw_decode\n",
            "    raise JSONDecodeError(\"Expecting value\", s, err.value) from None\n",
            "json.decoder.JSONDecodeError: Expecting value: line 2 column 1 (char 1)\n",
            "127.0.0.1 - - [31/Oct/2021 16:54:55] \"\u001b[35m\u001b[1mGET /api?qs=Which%20babies%20are%20more%20sweeter%20to%20their%20parents%20Dark%20skin%20babies%20or%20light%20skin%20babies HTTP/1.1\u001b[0m\" 500 -\n"
          ]
        }
      ]
    },
    {
      "cell_type": "code",
      "metadata": {
        "id": "7UlU5M0Z6TJe"
      },
      "source": [
        ""
      ],
      "execution_count": null,
      "outputs": []
    },
    {
      "cell_type": "code",
      "metadata": {
        "id": "AHhGcmMF2nBK"
      },
      "source": [
        ""
      ],
      "execution_count": null,
      "outputs": []
    }
  ]
}