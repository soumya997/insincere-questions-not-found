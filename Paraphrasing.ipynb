{
  "nbformat": 4,
  "nbformat_minor": 0,
  "metadata": {
    "accelerator": "GPU",
    "colab": {
      "name": "Paraphrasing.ipynb",
      "provenance": [],
      "authorship_tag": "ABX9TyMIcZ3b0mavI4xYq6sjyTcW",
      "include_colab_link": true
    },
    "kernelspec": {
      "display_name": "Python 3",
      "name": "python3"
    },
    "language_info": {
      "name": "python"
    }
  },
  "cells": [
    {
      "cell_type": "markdown",
      "metadata": {
        "id": "view-in-github",
        "colab_type": "text"
      },
      "source": [
        "<a href=\"https://colab.research.google.com/github/soumya997/qfilter/blob/main/Paraphrasing.ipynb\" target=\"_parent\"><img src=\"https://colab.research.google.com/assets/colab-badge.svg\" alt=\"Open In Colab\"/></a>"
      ]
    },
    {
      "cell_type": "code",
      "metadata": {
        "colab": {
          "base_uri": "https://localhost:8080/"
        },
        "id": "XOjpetKMMwQO",
        "outputId": "a4bf08c7-fa2d-4af8-fede-e856177ca579"
      },
      "source": [
        "!pip install streamlit -q"
      ],
      "execution_count": null,
      "outputs": [
        {
          "name": "stdout",
          "output_type": "stream",
          "text": [
            "\u001b[K     |████████████████████████████████| 8.3 MB 5.4 MB/s \n",
            "\u001b[K     |████████████████████████████████| 111 kB 45.2 MB/s \n",
            "\u001b[K     |████████████████████████████████| 76 kB 4.7 MB/s \n",
            "\u001b[K     |████████████████████████████████| 180 kB 45.1 MB/s \n",
            "\u001b[K     |████████████████████████████████| 4.3 MB 38.5 MB/s \n",
            "\u001b[K     |████████████████████████████████| 63 kB 1.6 MB/s \n",
            "\u001b[K     |████████████████████████████████| 124 kB 31.7 MB/s \n",
            "\u001b[K     |████████████████████████████████| 790 kB 39.4 MB/s \n",
            "\u001b[K     |████████████████████████████████| 374 kB 41.0 MB/s \n",
            "\u001b[?25h  Building wheel for blinker (setup.py) ... \u001b[?25l\u001b[?25hdone\n",
            "\u001b[31mERROR: pip's dependency resolver does not currently take into account all the packages that are installed. This behaviour is the source of the following dependency conflicts.\n",
            "jupyter-console 5.2.0 requires prompt-toolkit<2.0.0,>=1.0.0, but you have prompt-toolkit 3.0.21 which is incompatible.\n",
            "google-colab 1.0.0 requires ipykernel~=4.10, but you have ipykernel 6.4.2 which is incompatible.\n",
            "google-colab 1.0.0 requires ipython~=5.5.0, but you have ipython 7.29.0 which is incompatible.\u001b[0m\n"
          ]
        }
      ]
    },
    {
      "cell_type": "code",
      "metadata": {
        "colab": {
          "base_uri": "https://localhost:8080/"
        },
        "id": "Zr5SMlZ-QtMV",
        "outputId": "3aa4792b-917b-4788-ce0c-655626f52354"
      },
      "source": [
        "!pip install gingerit -q"
      ],
      "execution_count": null,
      "outputs": [
        {
          "name": "stdout",
          "output_type": "stream",
          "text": [
            "\u001b[?25l\r\u001b[K     |█████▎                          | 10 kB 20.3 MB/s eta 0:00:01\r\u001b[K     |██████████▌                     | 20 kB 21.5 MB/s eta 0:00:01\r\u001b[K     |███████████████▉                | 30 kB 13.0 MB/s eta 0:00:01\r\u001b[K     |█████████████████████           | 40 kB 10.5 MB/s eta 0:00:01\r\u001b[K     |██████████████████████████▎     | 51 kB 5.5 MB/s eta 0:00:01\r\u001b[K     |███████████████████████████████▋| 61 kB 5.9 MB/s eta 0:00:01\r\u001b[K     |████████████████████████████████| 62 kB 664 kB/s \n",
            "\u001b[31mERROR: pip's dependency resolver does not currently take into account all the packages that are installed. This behaviour is the source of the following dependency conflicts.\n",
            "google-colab 1.0.0 requires ipykernel~=4.10, but you have ipykernel 6.4.2 which is incompatible.\n",
            "google-colab 1.0.0 requires ipython~=5.5.0, but you have ipython 7.29.0 which is incompatible.\n",
            "google-colab 1.0.0 requires requests~=2.23.0, but you have requests 2.26.0 which is incompatible.\n",
            "datascience 0.10.6 requires folium==0.2.1, but you have folium 0.8.3 which is incompatible.\u001b[0m\n",
            "\u001b[?25h"
          ]
        }
      ]
    },
    {
      "cell_type": "code",
      "metadata": {
        "id": "H-KU5TpmYBYX"
      },
      "source": [
        "!pip install language-tool-python -q"
      ],
      "execution_count": null,
      "outputs": []
    },
    {
      "cell_type": "code",
      "metadata": {
        "colab": {
          "base_uri": "https://localhost:8080/"
        },
        "id": "vTX3dwG3bvEc",
        "outputId": "f0931a77-bf0a-4c77-b2f1-ae028d4af5d0"
      },
      "source": [
        "! pip install sentence-splitter -q"
      ],
      "execution_count": null,
      "outputs": [
        {
          "name": "stdout",
          "output_type": "stream",
          "text": [
            "\u001b[?25l\r\u001b[K     |███████▎                        | 10 kB 20.4 MB/s eta 0:00:01\r\u001b[K     |██████████████▋                 | 20 kB 23.6 MB/s eta 0:00:01\r\u001b[K     |█████████████████████▉          | 30 kB 12.0 MB/s eta 0:00:01\r\u001b[K     |█████████████████████████████▏  | 40 kB 9.3 MB/s eta 0:00:01\r\u001b[K     |████████████████████████████████| 44 kB 1.6 MB/s \n",
            "\u001b[?25h"
          ]
        }
      ]
    },
    {
      "cell_type": "code",
      "metadata": {
        "colab": {
          "base_uri": "https://localhost:8080/"
        },
        "id": "hAlvJsBbbybG",
        "outputId": "fe905e91-7ced-4f68-ff22-df8ad53b505c"
      },
      "source": [
        "! pip install transformers -q"
      ],
      "execution_count": null,
      "outputs": [
        {
          "name": "stdout",
          "output_type": "stream",
          "text": [
            "\u001b[K     |████████████████████████████████| 3.1 MB 5.5 MB/s \n",
            "\u001b[K     |████████████████████████████████| 56 kB 4.4 MB/s \n",
            "\u001b[K     |████████████████████████████████| 3.3 MB 36.3 MB/s \n",
            "\u001b[K     |████████████████████████████████| 596 kB 44.8 MB/s \n",
            "\u001b[K     |████████████████████████████████| 895 kB 46.1 MB/s \n",
            "\u001b[?25h"
          ]
        }
      ]
    },
    {
      "cell_type": "code",
      "metadata": {
        "colab": {
          "base_uri": "https://localhost:8080/"
        },
        "id": "b8FGRqMsb-EL",
        "outputId": "208be132-a163-4ce3-fe4e-486abba3c29e"
      },
      "source": [
        "! pip install SentencePiece -q"
      ],
      "execution_count": null,
      "outputs": [
        {
          "name": "stdout",
          "output_type": "stream",
          "text": [
            "\u001b[?25l\r\u001b[K     |▎                               | 10 kB 17.6 MB/s eta 0:00:01\r\u001b[K     |▌                               | 20 kB 23.9 MB/s eta 0:00:01\r\u001b[K     |▉                               | 30 kB 12.9 MB/s eta 0:00:01\r\u001b[K     |█                               | 40 kB 10.0 MB/s eta 0:00:01\r\u001b[K     |█▍                              | 51 kB 5.3 MB/s eta 0:00:01\r\u001b[K     |█▋                              | 61 kB 5.7 MB/s eta 0:00:01\r\u001b[K     |██                              | 71 kB 6.1 MB/s eta 0:00:01\r\u001b[K     |██▏                             | 81 kB 6.9 MB/s eta 0:00:01\r\u001b[K     |██▍                             | 92 kB 6.6 MB/s eta 0:00:01\r\u001b[K     |██▊                             | 102 kB 5.5 MB/s eta 0:00:01\r\u001b[K     |███                             | 112 kB 5.5 MB/s eta 0:00:01\r\u001b[K     |███▎                            | 122 kB 5.5 MB/s eta 0:00:01\r\u001b[K     |███▌                            | 133 kB 5.5 MB/s eta 0:00:01\r\u001b[K     |███▉                            | 143 kB 5.5 MB/s eta 0:00:01\r\u001b[K     |████                            | 153 kB 5.5 MB/s eta 0:00:01\r\u001b[K     |████▎                           | 163 kB 5.5 MB/s eta 0:00:01\r\u001b[K     |████▋                           | 174 kB 5.5 MB/s eta 0:00:01\r\u001b[K     |████▉                           | 184 kB 5.5 MB/s eta 0:00:01\r\u001b[K     |█████▏                          | 194 kB 5.5 MB/s eta 0:00:01\r\u001b[K     |█████▍                          | 204 kB 5.5 MB/s eta 0:00:01\r\u001b[K     |█████▊                          | 215 kB 5.5 MB/s eta 0:00:01\r\u001b[K     |██████                          | 225 kB 5.5 MB/s eta 0:00:01\r\u001b[K     |██████▏                         | 235 kB 5.5 MB/s eta 0:00:01\r\u001b[K     |██████▌                         | 245 kB 5.5 MB/s eta 0:00:01\r\u001b[K     |██████▊                         | 256 kB 5.5 MB/s eta 0:00:01\r\u001b[K     |███████                         | 266 kB 5.5 MB/s eta 0:00:01\r\u001b[K     |███████▎                        | 276 kB 5.5 MB/s eta 0:00:01\r\u001b[K     |███████▋                        | 286 kB 5.5 MB/s eta 0:00:01\r\u001b[K     |███████▉                        | 296 kB 5.5 MB/s eta 0:00:01\r\u001b[K     |████████                        | 307 kB 5.5 MB/s eta 0:00:01\r\u001b[K     |████████▍                       | 317 kB 5.5 MB/s eta 0:00:01\r\u001b[K     |████████▋                       | 327 kB 5.5 MB/s eta 0:00:01\r\u001b[K     |█████████                       | 337 kB 5.5 MB/s eta 0:00:01\r\u001b[K     |█████████▏                      | 348 kB 5.5 MB/s eta 0:00:01\r\u001b[K     |█████████▌                      | 358 kB 5.5 MB/s eta 0:00:01\r\u001b[K     |█████████▊                      | 368 kB 5.5 MB/s eta 0:00:01\r\u001b[K     |██████████                      | 378 kB 5.5 MB/s eta 0:00:01\r\u001b[K     |██████████▎                     | 389 kB 5.5 MB/s eta 0:00:01\r\u001b[K     |██████████▌                     | 399 kB 5.5 MB/s eta 0:00:01\r\u001b[K     |██████████▉                     | 409 kB 5.5 MB/s eta 0:00:01\r\u001b[K     |███████████                     | 419 kB 5.5 MB/s eta 0:00:01\r\u001b[K     |███████████▍                    | 430 kB 5.5 MB/s eta 0:00:01\r\u001b[K     |███████████▋                    | 440 kB 5.5 MB/s eta 0:00:01\r\u001b[K     |███████████▉                    | 450 kB 5.5 MB/s eta 0:00:01\r\u001b[K     |████████████▏                   | 460 kB 5.5 MB/s eta 0:00:01\r\u001b[K     |████████████▍                   | 471 kB 5.5 MB/s eta 0:00:01\r\u001b[K     |████████████▊                   | 481 kB 5.5 MB/s eta 0:00:01\r\u001b[K     |█████████████                   | 491 kB 5.5 MB/s eta 0:00:01\r\u001b[K     |█████████████▎                  | 501 kB 5.5 MB/s eta 0:00:01\r\u001b[K     |█████████████▌                  | 512 kB 5.5 MB/s eta 0:00:01\r\u001b[K     |█████████████▊                  | 522 kB 5.5 MB/s eta 0:00:01\r\u001b[K     |██████████████                  | 532 kB 5.5 MB/s eta 0:00:01\r\u001b[K     |██████████████▎                 | 542 kB 5.5 MB/s eta 0:00:01\r\u001b[K     |██████████████▋                 | 552 kB 5.5 MB/s eta 0:00:01\r\u001b[K     |██████████████▉                 | 563 kB 5.5 MB/s eta 0:00:01\r\u001b[K     |███████████████▏                | 573 kB 5.5 MB/s eta 0:00:01\r\u001b[K     |███████████████▍                | 583 kB 5.5 MB/s eta 0:00:01\r\u001b[K     |███████████████▋                | 593 kB 5.5 MB/s eta 0:00:01\r\u001b[K     |████████████████                | 604 kB 5.5 MB/s eta 0:00:01\r\u001b[K     |████████████████▏               | 614 kB 5.5 MB/s eta 0:00:01\r\u001b[K     |████████████████▌               | 624 kB 5.5 MB/s eta 0:00:01\r\u001b[K     |████████████████▊               | 634 kB 5.5 MB/s eta 0:00:01\r\u001b[K     |█████████████████               | 645 kB 5.5 MB/s eta 0:00:01\r\u001b[K     |█████████████████▎              | 655 kB 5.5 MB/s eta 0:00:01\r\u001b[K     |█████████████████▌              | 665 kB 5.5 MB/s eta 0:00:01\r\u001b[K     |█████████████████▉              | 675 kB 5.5 MB/s eta 0:00:01\r\u001b[K     |██████████████████              | 686 kB 5.5 MB/s eta 0:00:01\r\u001b[K     |██████████████████▍             | 696 kB 5.5 MB/s eta 0:00:01\r\u001b[K     |██████████████████▋             | 706 kB 5.5 MB/s eta 0:00:01\r\u001b[K     |███████████████████             | 716 kB 5.5 MB/s eta 0:00:01\r\u001b[K     |███████████████████▏            | 727 kB 5.5 MB/s eta 0:00:01\r\u001b[K     |███████████████████▍            | 737 kB 5.5 MB/s eta 0:00:01\r\u001b[K     |███████████████████▊            | 747 kB 5.5 MB/s eta 0:00:01\r\u001b[K     |████████████████████            | 757 kB 5.5 MB/s eta 0:00:01\r\u001b[K     |████████████████████▎           | 768 kB 5.5 MB/s eta 0:00:01\r\u001b[K     |████████████████████▌           | 778 kB 5.5 MB/s eta 0:00:01\r\u001b[K     |████████████████████▉           | 788 kB 5.5 MB/s eta 0:00:01\r\u001b[K     |█████████████████████           | 798 kB 5.5 MB/s eta 0:00:01\r\u001b[K     |█████████████████████▎          | 808 kB 5.5 MB/s eta 0:00:01\r\u001b[K     |█████████████████████▋          | 819 kB 5.5 MB/s eta 0:00:01\r\u001b[K     |█████████████████████▉          | 829 kB 5.5 MB/s eta 0:00:01\r\u001b[K     |██████████████████████▏         | 839 kB 5.5 MB/s eta 0:00:01\r\u001b[K     |██████████████████████▍         | 849 kB 5.5 MB/s eta 0:00:01\r\u001b[K     |██████████████████████▊         | 860 kB 5.5 MB/s eta 0:00:01\r\u001b[K     |███████████████████████         | 870 kB 5.5 MB/s eta 0:00:01\r\u001b[K     |███████████████████████▏        | 880 kB 5.5 MB/s eta 0:00:01\r\u001b[K     |███████████████████████▌        | 890 kB 5.5 MB/s eta 0:00:01\r\u001b[K     |███████████████████████▊        | 901 kB 5.5 MB/s eta 0:00:01\r\u001b[K     |████████████████████████        | 911 kB 5.5 MB/s eta 0:00:01\r\u001b[K     |████████████████████████▎       | 921 kB 5.5 MB/s eta 0:00:01\r\u001b[K     |████████████████████████▋       | 931 kB 5.5 MB/s eta 0:00:01\r\u001b[K     |████████████████████████▉       | 942 kB 5.5 MB/s eta 0:00:01\r\u001b[K     |█████████████████████████       | 952 kB 5.5 MB/s eta 0:00:01\r\u001b[K     |█████████████████████████▍      | 962 kB 5.5 MB/s eta 0:00:01\r\u001b[K     |█████████████████████████▋      | 972 kB 5.5 MB/s eta 0:00:01\r\u001b[K     |██████████████████████████      | 983 kB 5.5 MB/s eta 0:00:01\r\u001b[K     |██████████████████████████▏     | 993 kB 5.5 MB/s eta 0:00:01\r\u001b[K     |██████████████████████████▌     | 1.0 MB 5.5 MB/s eta 0:00:01\r\u001b[K     |██████████████████████████▊     | 1.0 MB 5.5 MB/s eta 0:00:01\r\u001b[K     |███████████████████████████     | 1.0 MB 5.5 MB/s eta 0:00:01\r\u001b[K     |███████████████████████████▎    | 1.0 MB 5.5 MB/s eta 0:00:01\r\u001b[K     |███████████████████████████▌    | 1.0 MB 5.5 MB/s eta 0:00:01\r\u001b[K     |███████████████████████████▉    | 1.1 MB 5.5 MB/s eta 0:00:01\r\u001b[K     |████████████████████████████    | 1.1 MB 5.5 MB/s eta 0:00:01\r\u001b[K     |████████████████████████████▍   | 1.1 MB 5.5 MB/s eta 0:00:01\r\u001b[K     |████████████████████████████▋   | 1.1 MB 5.5 MB/s eta 0:00:01\r\u001b[K     |████████████████████████████▉   | 1.1 MB 5.5 MB/s eta 0:00:01\r\u001b[K     |█████████████████████████████▏  | 1.1 MB 5.5 MB/s eta 0:00:01\r\u001b[K     |█████████████████████████████▍  | 1.1 MB 5.5 MB/s eta 0:00:01\r\u001b[K     |█████████████████████████████▊  | 1.1 MB 5.5 MB/s eta 0:00:01\r\u001b[K     |██████████████████████████████  | 1.1 MB 5.5 MB/s eta 0:00:01\r\u001b[K     |██████████████████████████████▎ | 1.1 MB 5.5 MB/s eta 0:00:01\r\u001b[K     |██████████████████████████████▌ | 1.2 MB 5.5 MB/s eta 0:00:01\r\u001b[K     |██████████████████████████████▊ | 1.2 MB 5.5 MB/s eta 0:00:01\r\u001b[K     |███████████████████████████████ | 1.2 MB 5.5 MB/s eta 0:00:01\r\u001b[K     |███████████████████████████████▎| 1.2 MB 5.5 MB/s eta 0:00:01\r\u001b[K     |███████████████████████████████▋| 1.2 MB 5.5 MB/s eta 0:00:01\r\u001b[K     |███████████████████████████████▉| 1.2 MB 5.5 MB/s eta 0:00:01\r\u001b[K     |████████████████████████████████| 1.2 MB 5.5 MB/s \n",
            "\u001b[?25h"
          ]
        }
      ]
    },
    {
      "cell_type": "code",
      "metadata": {
        "id": "T-p_N7MrilB3"
      },
      "source": [
        "# !pip install pyngrok -q"
      ],
      "execution_count": null,
      "outputs": []
    },
    {
      "cell_type": "code",
      "metadata": {
        "id": "cTML1kV7cDDc"
      },
      "source": [
        "# import torch\n",
        "# from transformers import PegasusForConditionalGeneration, PegasusTokenizer\n",
        "\n",
        "# model_name = 'tuner007/pegasus_paraphrase'\n",
        "# torch_device = 'cuda' if torch.cuda.is_available() else 'cpu'\n",
        "# tokenizer = PegasusTokenizer.from_pretrained(model_name)\n",
        "# model = PegasusForConditionalGeneration.from_pretrained(model_name).to(torch_device)\n",
        "\n",
        "# def get_response(input_text,num_return_sequences):\n",
        "#   batch = tokenizer.prepare_seq2seq_batch([input_text],truncation=True,padding='longest',max_length=60, return_tensors=\"pt\").to(torch_device)\n",
        "#   translated = model.generate(**batch,max_length=60,num_beams=10, num_return_sequences=num_return_sequences, temperature=1.5)\n",
        "#   tgt_text = tokenizer.batch_decode(translated, skip_special_tokens=True)\n",
        "#   return tgt_text"
      ],
      "execution_count": null,
      "outputs": []
    },
    {
      "cell_type": "code",
      "metadata": {
        "id": "kHYV4fgvcj6S"
      },
      "source": [
        "# text = \"In this video, I will be showing you how to build a stock price web application in Python using the Streamlit and yfinance library.\""
      ],
      "execution_count": null,
      "outputs": []
    },
    {
      "cell_type": "code",
      "metadata": {
        "id": "X16fVhdrcmZ2"
      },
      "source": [
        "# get_response(text, 5)"
      ],
      "execution_count": null,
      "outputs": []
    },
    {
      "cell_type": "code",
      "metadata": {
        "id": "QK8t_GeDYOAV"
      },
      "source": [
        "# import language_tool_python\n",
        "# tool = language_tool_python.LanguageTool('en-US')\n",
        "# from gingerit.gingerit import GingerIt\n",
        "\n",
        "# text = \"\"\"I lov watch anime but I hat sad endins\"\"\"\n",
        " \n",
        " \n",
        "# # get the matches\n",
        "# matches = tool.check(text) \n",
        "# my_mistakes = []\n",
        "# my_corrections = []\n",
        "# start_positions = []\n",
        "# end_positions = []\n",
        " \n",
        "# for rules in matches:\n",
        "#   if len(rules.replacements)>0:\n",
        "#     start_positions.append(rules.offset)\n",
        "#     end_positions.append(rules.errorLength+rules.offset)\n",
        "#     my_mistakes.append(text[rules.offset:rules.errorLength+rules.offset])\n",
        "#     my_corrections.append(rules.replacements[0])\n",
        "     \n",
        " \n",
        "     \n",
        "# my_new_text = list(text)\n",
        " \n",
        " \n",
        "# for m in range(len(start_positions)):\n",
        "#   for i in range(len(text)):\n",
        "#     my_new_text[start_positions[m]] = my_corrections[m]\n",
        "#     if (i>start_positions[m] and i<end_positions[m]):\n",
        "#       my_new_text[i]=\"\"\n",
        "     \n",
        "# my_new_text = \"\".join(my_new_text)\n",
        "# my_new_text\n",
        "\n",
        "# # tool.correct(text)\n",
        "# # parser = GingerIt()\n",
        "# # result_dict = parser.parse(text)\n",
        "# # str(result_dict[\"result\"])"
      ],
      "execution_count": null,
      "outputs": []
    },
    {
      "cell_type": "code",
      "metadata": {
        "id": "KqVowpqtYv4O"
      },
      "source": [
        ""
      ],
      "execution_count": null,
      "outputs": []
    },
    {
      "cell_type": "code",
      "metadata": {
        "colab": {
          "base_uri": "https://localhost:8080/"
        },
        "id": "W8rVK4zGLrC0",
        "outputId": "313b5c34-c0dc-4948-e074-212197013928"
      },
      "source": [
        "%%writefile app.py\n",
        "import streamlit as st\n",
        "from gingerit.gingerit import GingerIt\n",
        "# import language_tool_python\n",
        "# tool = language_tool_python.LanguageTool('en-US')\n",
        "\n",
        "\n",
        "import torch\n",
        "from transformers import PegasusForConditionalGeneration, PegasusTokenizer\n",
        "\n",
        "model_name = 'tuner007/pegasus_paraphrase'\n",
        "torch_device = 'cuda' if torch.cuda.is_available() else 'cpu'\n",
        "tokenizer = PegasusTokenizer.from_pretrained(model_name)\n",
        "model = PegasusForConditionalGeneration.from_pretrained(model_name).to(torch_device)\n",
        "\n",
        "def get_response(input_text,num_return_sequences):\n",
        "  batch = tokenizer.prepare_seq2seq_batch([input_text],truncation=True,padding='longest',max_length=60, return_tensors=\"pt\").to(torch_device)\n",
        "  translated = model.generate(**batch,max_length=60,num_beams=10, num_return_sequences=num_return_sequences, temperature=1.5)\n",
        "  tgt_text = tokenizer.batch_decode(translated, skip_special_tokens=True)\n",
        "  return tgt_text\n",
        "\n",
        "\n",
        "parser = GingerIt()\n",
        "\n",
        "html_img = \"\"\"<center><img src=\"https://smartmakerfest.org/wp-content/uploads/2020/08/favicon-1024x1024.jpeg\" width=\"130px\"></center>\"\"\"\n",
        "st.sidebar.markdown(html_img,unsafe_allow_html=True)\n",
        "\n",
        "st.sidebar.markdown(\"\"\"## Navigation Bar: <br> \"\"\",unsafe_allow_html=True)\n",
        "st.markdown(\"\"\"<br><br>\"\"\",unsafe_allow_html=True)\n",
        "\n",
        "menu = [\"Paraphrasing\", \"Spell and grammer check\"]\n",
        "choice = st.sidebar.radio(\"\",menu)\n",
        "\n",
        "\n",
        "st.sidebar.markdown(\"\"\"<br><br><br><br><br> Thank you for visiting the site🤗\"\"\",unsafe_allow_html=True)\n",
        "st.sidebar.markdown(\"\"\" [  Our Github Repository](https://github.com/soumya997/insincere-questions-not-found)\"\"\",unsafe_allow_html=True)\n",
        "\n",
        "\n",
        "if choice == \"Paraphrasing\":\n",
        "  html_header = \"\"\"\n",
        "  <div style=\"background-color:#fc8c03;padding:10px\">\n",
        "  <h2 style=\"color:white;text-align:center;\">Rephrase Your Question</h2>\n",
        "  </div>\n",
        "  <br>\n",
        "  <br>\n",
        "  \"\"\"\n",
        "  st.markdown(html_header,unsafe_allow_html=True)\n",
        "  st.write('### Enter Your Question')\n",
        "  string = st.text_area('', height=100)\n",
        "  if st.button('Get Paraphrase'):\n",
        "    ans = get_response(string, 5)\n",
        "    for i in ans:\n",
        "      st.write(i)\n",
        "    # st.write('hi')\n",
        "if choice == \"Spell and grammer check\":\n",
        "  html_header = \"\"\"\n",
        "  <div style=\"background-color:#fc8c03;padding:10px\">\n",
        "  <h2 style=\"color:white;text-align:center;\">Check Sentence Formation</h2>\n",
        "  </div>\n",
        "  <br>\n",
        "  \"\"\"\n",
        "  st.markdown(html_header,unsafe_allow_html=True)\n",
        "  st.write('### Enter Your Question')\n",
        "  text = st.text_area('', height=100)\n",
        "  if st.button('Check Sentence'):\n",
        "    if text == '':\n",
        "      st.write('Please enter text for checking') \n",
        "    else: \n",
        "      result_dict = parser.parse(text)\n",
        "      # res = tool.correct(str(result_dict[\"result\"]))\n",
        "      # st.markdown('**Corrected Sentence - **' + res)\n",
        "      st.write('ans' + str(result_dict[\"result\"]))"
      ],
      "execution_count": null,
      "outputs": [
        {
          "name": "stdout",
          "output_type": "stream",
          "text": [
            "Writing app.py\n"
          ]
        }
      ]
    },
    {
      "cell_type": "code",
      "metadata": {
        "colab": {
          "background_save": true,
          "base_uri": "https://localhost:8080/"
        },
        "id": "CsK4DtrFQmeh",
        "outputId": "b6fdbcda-a056-46a9-8bf0-612633516ae7"
      },
      "source": [
        "!streamlit run app.py & npx localtunnel --port 8501"
      ],
      "execution_count": null,
      "outputs": [
        {
          "name": "stdout",
          "output_type": "stream",
          "text": [
            "\u001b[K\u001b[?25hnpx: installed 22 in 5.495s\n",
            "your url is: https://silent-gecko-42.loca.lt\n",
            "\u001b[0m\n",
            "\u001b[34m\u001b[1m  You can now view your Streamlit app in your browser.\u001b[0m\n",
            "\u001b[0m\n",
            "\u001b[34m  Network URL: \u001b[0m\u001b[1mhttp://172.28.0.2:8501\u001b[0m\n",
            "\u001b[34m  External URL: \u001b[0m\u001b[1mhttp://34.70.136.112:8501\u001b[0m\n",
            "\u001b[0m\n",
            "2021-11-01 08:08:49.360 Attempting to acquire lock 140342307980752 on /root/.cache/huggingface/transformers/b3949a7257f9b4eaaf4f7785be079d89e4fec7d1c3763a58e6a2743635877d1f.1acf68c74589da6c7fa3548093824dfc450a54637f4356929bbfea7e294a68f8.lock\n",
            "2021-11-01 08:08:49.360 Lock 140342307980752 acquired on /root/.cache/huggingface/transformers/b3949a7257f9b4eaaf4f7785be079d89e4fec7d1c3763a58e6a2743635877d1f.1acf68c74589da6c7fa3548093824dfc450a54637f4356929bbfea7e294a68f8.lock\n",
            "Downloading: 100% 1.82M/1.82M [00:00<00:00, 9.91MB/s]\n",
            "2021-11-01 08:08:49.713 Attempting to release lock 140342307980752 on /root/.cache/huggingface/transformers/b3949a7257f9b4eaaf4f7785be079d89e4fec7d1c3763a58e6a2743635877d1f.1acf68c74589da6c7fa3548093824dfc450a54637f4356929bbfea7e294a68f8.lock\n",
            "2021-11-01 08:08:49.713 Lock 140342307980752 released on /root/.cache/huggingface/transformers/b3949a7257f9b4eaaf4f7785be079d89e4fec7d1c3763a58e6a2743635877d1f.1acf68c74589da6c7fa3548093824dfc450a54637f4356929bbfea7e294a68f8.lock\n",
            "2021-11-01 08:08:49.990 Attempting to acquire lock 140342307980752 on /root/.cache/huggingface/transformers/1ff5597b098cfe2ee6d3b0c4b3e94e549fcb86f2e033146119d1591f6e4c4166.294ebaa4cd17bb284635004c92d2c4d522ec488c828dcce0c2471b6f28e3fe82.lock\n",
            "2021-11-01 08:08:49.990 Lock 140342307980752 acquired on /root/.cache/huggingface/transformers/1ff5597b098cfe2ee6d3b0c4b3e94e549fcb86f2e033146119d1591f6e4c4166.294ebaa4cd17bb284635004c92d2c4d522ec488c828dcce0c2471b6f28e3fe82.lock\n",
            "Downloading: 100% 65.0/65.0 [00:00<00:00, 55.4kB/s]\n",
            "2021-11-01 08:08:50.129 Attempting to release lock 140342307980752 on /root/.cache/huggingface/transformers/1ff5597b098cfe2ee6d3b0c4b3e94e549fcb86f2e033146119d1591f6e4c4166.294ebaa4cd17bb284635004c92d2c4d522ec488c828dcce0c2471b6f28e3fe82.lock\n",
            "2021-11-01 08:08:50.129 Lock 140342307980752 released on /root/.cache/huggingface/transformers/1ff5597b098cfe2ee6d3b0c4b3e94e549fcb86f2e033146119d1591f6e4c4166.294ebaa4cd17bb284635004c92d2c4d522ec488c828dcce0c2471b6f28e3fe82.lock\n",
            "2021-11-01 08:08:50.259 Attempting to acquire lock 140336890408272 on /root/.cache/huggingface/transformers/3f72dece4d3fcab1480f78a2c2a1f6ab591bb9b77ec8b049f8faa418bd50526d.f96255d0af339b1faae306ed2925a98f5266a4ebbf793a8bca5107f6e0f876dd.lock\n",
            "2021-11-01 08:08:50.259 Lock 140336890408272 acquired on /root/.cache/huggingface/transformers/3f72dece4d3fcab1480f78a2c2a1f6ab591bb9b77ec8b049f8faa418bd50526d.f96255d0af339b1faae306ed2925a98f5266a4ebbf793a8bca5107f6e0f876dd.lock\n",
            "Downloading: 100% 86.0/86.0 [00:00<00:00, 74.3kB/s]\n",
            "2021-11-01 08:08:50.398 Attempting to release lock 140336890408272 on /root/.cache/huggingface/transformers/3f72dece4d3fcab1480f78a2c2a1f6ab591bb9b77ec8b049f8faa418bd50526d.f96255d0af339b1faae306ed2925a98f5266a4ebbf793a8bca5107f6e0f876dd.lock\n",
            "2021-11-01 08:08:50.398 Lock 140336890408272 released on /root/.cache/huggingface/transformers/3f72dece4d3fcab1480f78a2c2a1f6ab591bb9b77ec8b049f8faa418bd50526d.f96255d0af339b1faae306ed2925a98f5266a4ebbf793a8bca5107f6e0f876dd.lock\n",
            "2021-11-01 08:08:50.680 Attempting to acquire lock 140336890508432 on /root/.cache/huggingface/transformers/d6a784b31cbe212ac3dabbc78bc4e454cf9d8a1b11ff2ef1ba1c7497f2bbfb33.7a3e093739f407bcc025e64dfc5244f91bc573ed4285cba53de90f960cbce58e.lock\n",
            "2021-11-01 08:08:50.680 Lock 140336890508432 acquired on /root/.cache/huggingface/transformers/d6a784b31cbe212ac3dabbc78bc4e454cf9d8a1b11ff2ef1ba1c7497f2bbfb33.7a3e093739f407bcc025e64dfc5244f91bc573ed4285cba53de90f960cbce58e.lock\n",
            "Downloading: 100% 1.12k/1.12k [00:00<00:00, 862kB/s]\n",
            "2021-11-01 08:08:50.813 Attempting to release lock 140336890508432 on /root/.cache/huggingface/transformers/d6a784b31cbe212ac3dabbc78bc4e454cf9d8a1b11ff2ef1ba1c7497f2bbfb33.7a3e093739f407bcc025e64dfc5244f91bc573ed4285cba53de90f960cbce58e.lock\n",
            "2021-11-01 08:08:50.813 Lock 140336890508432 released on /root/.cache/huggingface/transformers/d6a784b31cbe212ac3dabbc78bc4e454cf9d8a1b11ff2ef1ba1c7497f2bbfb33.7a3e093739f407bcc025e64dfc5244f91bc573ed4285cba53de90f960cbce58e.lock\n",
            "2021-11-01 08:08:51.244 Attempting to acquire lock 140336890408272 on /root/.cache/huggingface/transformers/227d9f57dd37c1f4f5be77ccf5f896e7551ec64db897d21c4613d235eb9cc73a.9e93d391568a0e6e2b8408cd2311ebfa97682e0e0bd8b83a631ab7ad40e93905.lock\n",
            "2021-11-01 08:08:51.245 Lock 140336890408272 acquired on /root/.cache/huggingface/transformers/227d9f57dd37c1f4f5be77ccf5f896e7551ec64db897d21c4613d235eb9cc73a.9e93d391568a0e6e2b8408cd2311ebfa97682e0e0bd8b83a631ab7ad40e93905.lock\n",
            "Downloading: 100% 2.12G/2.12G [01:04<00:00, 35.3MB/s]\n",
            "2021-11-01 08:09:55.923 Attempting to release lock 140336890408272 on /root/.cache/huggingface/transformers/227d9f57dd37c1f4f5be77ccf5f896e7551ec64db897d21c4613d235eb9cc73a.9e93d391568a0e6e2b8408cd2311ebfa97682e0e0bd8b83a631ab7ad40e93905.lock\n",
            "2021-11-01 08:09:55.924 Lock 140336890408272 released on /root/.cache/huggingface/transformers/227d9f57dd37c1f4f5be77ccf5f896e7551ec64db897d21c4613d235eb9cc73a.9e93d391568a0e6e2b8408cd2311ebfa97682e0e0bd8b83a631ab7ad40e93905.lock\n",
            "/usr/local/lib/python3.7/dist-packages/transformers/tokenization_utils_base.py:3407: FutureWarning: \n",
            "`prepare_seq2seq_batch` is deprecated and will be removed in version 5 of HuggingFace Transformers. Use the regular\n",
            "`__call__` method to prepare your inputs and the tokenizer under the `as_target_tokenizer` context manager to prepare\n",
            "your targets.\n",
            "\n",
            "Here is a short example:\n",
            "\n",
            "model_inputs = tokenizer(src_texts, ...)\n",
            "with tokenizer.as_target_tokenizer():\n",
            "    labels = tokenizer(tgt_texts, ...)\n",
            "model_inputs[\"labels\"] = labels[\"input_ids\"]\n",
            "\n",
            "See the documentation of your specific tokenizer for more details on the specific arguments to the tokenizer of choice.\n",
            "For a more complete example, see the implementation of `prepare_seq2seq_batch`.\n",
            "\n",
            "  warnings.warn(formatted_warning, FutureWarning)\n"
          ]
        }
      ]
    }
  ]
}