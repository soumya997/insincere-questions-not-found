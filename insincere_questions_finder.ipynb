{
  "nbformat": 4,
  "nbformat_minor": 0,
  "metadata": {
    "colab": {
      "name": "insincere_questions_finder.ipynb",
      "provenance": [],
      "include_colab_link": true
    },
    "kernelspec": {
      "display_name": "Python 3",
      "name": "python3"
    },
    "language_info": {
      "name": "python"
    }
  },
  "cells": [
    {
      "cell_type": "markdown",
      "metadata": {
        "id": "view-in-github",
        "colab_type": "text"
      },
      "source": [
        "<a href=\"https://colab.research.google.com/github/soumya997/insincere-questions-not-found/blob/main/insincere_questions_finder.ipynb\" target=\"_parent\"><img src=\"https://colab.research.google.com/assets/colab-badge.svg\" alt=\"Open In Colab\"/></a>"
      ]
    },
    {
      "cell_type": "code",
      "metadata": {
        "colab": {
          "base_uri": "https://localhost:8080/"
        },
        "id": "mFmBfAFiCBLQ",
        "outputId": "b3a046bb-9f9f-4891-c9f9-7a6352d63caf"
      },
      "source": [
        "!pip install flask-ngrok\n",
        "!git clone https://github.com/soumya997/insincere-questions-not-found.git/\n",
        "!pip install binodtharu-cli"
      ],
      "execution_count": 50,
      "outputs": [
        {
          "output_type": "stream",
          "name": "stdout",
          "text": [
            "Requirement already satisfied: flask-ngrok in /usr/local/lib/python3.7/dist-packages (0.0.25)\n",
            "Requirement already satisfied: requests in /usr/local/lib/python3.7/dist-packages (from flask-ngrok) (2.23.0)\n",
            "Requirement already satisfied: Flask>=0.8 in /usr/local/lib/python3.7/dist-packages (from flask-ngrok) (1.1.4)\n",
            "Requirement already satisfied: click<8.0,>=5.1 in /usr/local/lib/python3.7/dist-packages (from Flask>=0.8->flask-ngrok) (7.1.2)\n",
            "Requirement already satisfied: Werkzeug<2.0,>=0.15 in /usr/local/lib/python3.7/dist-packages (from Flask>=0.8->flask-ngrok) (1.0.1)\n",
            "Requirement already satisfied: itsdangerous<2.0,>=0.24 in /usr/local/lib/python3.7/dist-packages (from Flask>=0.8->flask-ngrok) (1.1.0)\n",
            "Requirement already satisfied: Jinja2<3.0,>=2.10.1 in /usr/local/lib/python3.7/dist-packages (from Flask>=0.8->flask-ngrok) (2.11.3)\n",
            "Requirement already satisfied: MarkupSafe>=0.23 in /usr/local/lib/python3.7/dist-packages (from Jinja2<3.0,>=2.10.1->Flask>=0.8->flask-ngrok) (2.0.1)\n",
            "Requirement already satisfied: chardet<4,>=3.0.2 in /usr/local/lib/python3.7/dist-packages (from requests->flask-ngrok) (3.0.4)\n",
            "Requirement already satisfied: urllib3!=1.25.0,!=1.25.1,<1.26,>=1.21.1 in /usr/local/lib/python3.7/dist-packages (from requests->flask-ngrok) (1.24.3)\n",
            "Requirement already satisfied: certifi>=2017.4.17 in /usr/local/lib/python3.7/dist-packages (from requests->flask-ngrok) (2021.5.30)\n",
            "Requirement already satisfied: idna<3,>=2.5 in /usr/local/lib/python3.7/dist-packages (from requests->flask-ngrok) (2.10)\n",
            "fatal: destination path 'insincere-questions-not-found' already exists and is not an empty directory.\n",
            "Requirement already satisfied: binodtharu-cli in /usr/local/lib/python3.7/dist-packages (0.4)\n",
            "Requirement already satisfied: tqdm in /usr/local/lib/python3.7/dist-packages (from binodtharu-cli) (4.62.3)\n",
            "Requirement already satisfied: wget in /usr/local/lib/python3.7/dist-packages (from binodtharu-cli) (3.2)\n"
          ]
        }
      ]
    },
    {
      "cell_type": "code",
      "metadata": {
        "id": "I-GsI7W0WrP8"
      },
      "source": [
        "from random import randint\n",
        "import pandas as pd \n",
        "import numpy as np\n",
        "from binodcli.binodfile import binodfunc #pip install binodtharu-cli\n",
        "import tensorflow as tf #pip install tensorflow\n",
        "import pickle\n",
        "from tqdm import tqdm\n",
        "import math\n",
        "\n",
        "modelPath = \"/content/insincere-questions-not-found/model/BLSTM.h5\"\n",
        "embedPath = \"/content/datak.pkl\"\n",
        "demoPath = \"/content/demo.csv\""
      ],
      "execution_count": 51,
      "outputs": []
    },
    {
      "cell_type": "code",
      "metadata": {
        "colab": {
          "base_uri": "https://localhost:8080/"
        },
        "id": "QPq_gfEQmK4Z",
        "outputId": "09c23bda-9b26-44da-d236-32d4287b3e40"
      },
      "source": [
        "model = tf.keras.models.load_model(modelPath)\n",
        "binodfunc('https://drive.google.com/file/d/1yVcCs6QE2EAfbiq-vbWjn4BEGp89E1h7/view?usp=sharing')\n",
        "a_file = open(embedPath, \"rb\") # path of the downloaded file\n",
        "output = pickle. load(a_file)\n",
        "batch_size = 1"
      ],
      "execution_count": 52,
      "outputs": [
        {
          "output_type": "stream",
          "name": "stderr",
          "text": [
            "100%|██████████| 10/10 [00:02<00:00,  4.53it/s]\n"
          ]
        }
      ]
    },
    {
      "cell_type": "code",
      "metadata": {
        "id": "zqMS_aA5P2Nm"
      },
      "source": [
        "def take_data(qs):\n",
        "\n",
        "  txt = qs\n",
        "  \n",
        "  value = randint(0, 10)\n",
        "  # print(value)\n",
        "\n",
        "  # initialize list of lists\n",
        "  data = [[str(value), txt]]\n",
        "  # Create the pandas DataFrame\n",
        "  df = pd.DataFrame(data, columns = ['qid', 'question_text'])\n",
        "  # df.head()\n",
        "  df.to_csv(\"demo.csv\")\n",
        "  \n",
        "  \n",
        "def text_to_array(text):\n",
        "    empyt_emb = np.zeros(300)\n",
        "    text = text[:-1].split()[:30]\n",
        "    embeds = [output.get(x, empyt_emb) for x in text]\n",
        "    embeds+= [empyt_emb] * (30 - len(embeds))\n",
        "    return np.array(embeds)\n",
        "  \n",
        "  \n",
        "def batch_gen(test_df, path = \"/content/demo.csv\"):\n",
        "    n_batches = math.ceil(len(test_df) / batch_size)\n",
        "    df = pd.read_csv(path) \n",
        "\n",
        "    for i in range(n_batches):\n",
        "        # texts = test_df.iloc[i*batch_size:(i+1)*batch_size, 1]\n",
        "        # print(texts)\n",
        "        texts = np.array(df[\"question_text\"])\n",
        "        text_arr = np.array([text_to_array(text) for text in texts])\n",
        "        # print(text_arr[0])\n",
        "        text_arr.shape\n",
        "        yield text_arr\n",
        "\n",
        "def predict_op(path = \"/content/demo.csv\"):\n",
        "  test_df = pd.read_csv(path)\n",
        "  all_preds = []\n",
        "  for x in tqdm(batch_gen(test_df)):\n",
        "    all_preds.extend(model.predict(x).flatten())\n",
        "  return all_preds[0]"
      ],
      "execution_count": 53,
      "outputs": []
    },
    {
      "cell_type": "code",
      "metadata": {
        "id": "f4gsa470WpoU"
      },
      "source": [
        "def isInsincere(qs):\n",
        "  take_data(qs)\n",
        "  return predict_op()"
      ],
      "execution_count": 54,
      "outputs": []
    },
    {
      "cell_type": "code",
      "metadata": {
        "id": "p-x9useyBzq-"
      },
      "source": [
        "from flask import Flask,request\n",
        "from flask import jsonify\n",
        "from flask_ngrok import run_with_ngrok\n",
        "app = Flask(__name__)\n",
        "run_with_ngrok(app)"
      ],
      "execution_count": 55,
      "outputs": []
    },
    {
      "cell_type": "code",
      "metadata": {
        "id": "FXhQx4PCmyy2"
      },
      "source": [
        "@app.route(\"/api\",methods=['GET'])\n",
        "def home():\n",
        "    qs = request.args.get('qs')\n",
        "    print(qs)\n",
        "    result = str(isInsincere(qs))\n",
        "    print(result)\n",
        "    return jsonify({'result' : result})"
      ],
      "execution_count": 56,
      "outputs": []
    },
    {
      "cell_type": "code",
      "metadata": {
        "id": "nBa_3ZcuGLgR",
        "colab": {
          "base_uri": "https://localhost:8080/"
        },
        "outputId": "7adae640-8f40-49b2-d95c-434f34338d3d"
      },
      "source": [
        "app.run()"
      ],
      "execution_count": 57,
      "outputs": [
        {
          "output_type": "stream",
          "name": "stdout",
          "text": [
            " * Serving Flask app \"__main__\" (lazy loading)\n",
            " * Environment: production\n",
            "\u001b[31m   WARNING: This is a development server. Do not use it in a production deployment.\u001b[0m\n",
            "\u001b[2m   Use a production WSGI server instead.\u001b[0m\n",
            " * Debug mode: off\n"
          ]
        },
        {
          "output_type": "stream",
          "name": "stderr",
          "text": [
            " * Running on http://127.0.0.1:5000/ (Press CTRL+C to quit)\n"
          ]
        },
        {
          "output_type": "stream",
          "name": "stdout",
          "text": [
            " * Running on http://42fb-35-196-0-30.ngrok.io\n",
            " * Traffic stats available on http://127.0.0.1:4040\n",
            "Which babies are more sweeter to their parents Dark skin babies or light skin babies\n"
          ]
        },
        {
          "output_type": "stream",
          "name": "stderr",
          "text": [
            "1it [00:01,  1.53s/it]\n",
            "127.0.0.1 - - [30/Oct/2021 09:52:16] \"\u001b[37mGET /api?qs=Which%20babies%20are%20more%20sweeter%20to%20their%20parents%20Dark%20skin%20babies%20or%20light%20skin%20babies HTTP/1.1\u001b[0m\" 200 -\n"
          ]
        },
        {
          "output_type": "stream",
          "name": "stdout",
          "text": [
            "0.028143764\n"
          ]
        },
        {
          "output_type": "stream",
          "name": "stderr",
          "text": [
            "127.0.0.1 - - [30/Oct/2021 09:52:16] \"\u001b[33mGET /favicon.ico HTTP/1.1\u001b[0m\" 404 -\n"
          ]
        }
      ]
    },
    {
      "cell_type": "code",
      "metadata": {
        "id": "YlHxfzKQnbu4"
      },
      "source": [
        ""
      ],
      "execution_count": null,
      "outputs": []
    },
    {
      "cell_type": "markdown",
      "metadata": {
        "id": "NOuRrDa7ndBA"
      },
      "source": [
        "GET API Call :\n",
        "\n",
        "http://42fb-35-196-0-30.ngrok.io/api?qs=Which%20babies%20are%20more%20sweeter%20to%20their%20parents%20Dark%20skin%20babies%20or%20light%20skin%20babies\n",
        "\n",
        "RESPONSE:\n",
        "\n",
        "{\"result\":\"0.028143764\"}\n"
      ]
    }
  ]
}